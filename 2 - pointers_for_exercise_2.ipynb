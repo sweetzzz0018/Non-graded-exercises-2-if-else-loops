{
 "cells": [
  {
   "cell_type": "markdown",
   "metadata": {},
   "source": [
    "enumerate() method: "
   ]
  },
  {
   "cell_type": "code",
   "execution_count": 1,
   "metadata": {},
   "outputs": [
    {
     "name": "stdout",
     "output_type": "stream",
     "text": [
      "At index 0, the value is H\n",
      "At index 1, the value is o\n",
      "At index 2, the value is w\n",
      "At index 3, the value is l\n",
      "At index 4, the value is '\n",
      "At index 5, the value is s\n",
      "At index 6, the value is  \n",
      "At index 7, the value is M\n",
      "At index 8, the value is o\n",
      "At index 9, the value is v\n",
      "At index 10, the value is i\n",
      "At index 11, the value is n\n",
      "At index 12, the value is g\n",
      "At index 13, the value is  \n",
      "At index 14, the value is C\n",
      "At index 15, the value is a\n",
      "At index 16, the value is s\n",
      "At index 17, the value is t\n",
      "At index 18, the value is l\n",
      "At index 19, the value is e\n"
     ]
    }
   ],
   "source": [
    "str1 = \"Howl's Moving Castle\"\n",
    "\n",
    "for index, value in enumerate(str1):\n",
    "    print(f\"At index {index}, the value is {value}\")"
   ]
  },
  {
   "cell_type": "markdown",
   "metadata": {},
   "source": [
    "join() method:"
   ]
  },
  {
   "cell_type": "code",
   "execution_count": null,
   "metadata": {},
   "outputs": [],
   "source": [
    "some_list = ['Baa', 'baa', 'black', 'sheep']\n",
    "\n",
    "rhyme = \" \".join(some_list)\n",
    "print(rhyme)"
   ]
  },
  {
   "cell_type": "markdown",
   "metadata": {},
   "source": [
    "random() method:"
   ]
  },
  {
   "cell_type": "code",
   "execution_count": 14,
   "metadata": {},
   "outputs": [
    {
     "name": "stdout",
     "output_type": "stream",
     "text": [
      "baa\n"
     ]
    }
   ],
   "source": [
    "import random\n",
    "\n",
    "some_list = ['Baa', 'baa', 'black', 'sheep']\n",
    "random_word =random.choice(some_list)\n",
    "print(random_word)\n"
   ]
  }
 ],
 "metadata": {
  "kernelspec": {
   "display_name": "Python 3",
   "language": "python",
   "name": "python3"
  },
  "language_info": {
   "codemirror_mode": {
    "name": "ipython",
    "version": 3
   },
   "file_extension": ".py",
   "mimetype": "text/x-python",
   "name": "python",
   "nbconvert_exporter": "python",
   "pygments_lexer": "ipython3",
   "version": "3.11.9"
  }
 },
 "nbformat": 4,
 "nbformat_minor": 2
}
