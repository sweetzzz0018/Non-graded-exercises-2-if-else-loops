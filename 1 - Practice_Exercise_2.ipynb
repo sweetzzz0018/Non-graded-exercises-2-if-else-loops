{
 "cells": [
  {
   "cell_type": "markdown",
   "metadata": {},
   "source": [
    "1. Ask user to enter a string and check that it is made up only alphabets:"
   ]
  },
  {
   "cell_type": "code",
   "execution_count": 1,
   "metadata": {},
   "outputs": [
    {
     "name": "stdout",
     "output_type": "stream",
     "text": [
      "valid username\n"
     ]
    }
   ],
   "source": [
    "input_word=input(\"Enter your username: \")\n",
    "if input_word.isalpha():\n",
    "    print(\"InValid username\")\n",
    "else:\n",
    "    print(\"valid username\")"
   ]
  },
  {
   "cell_type": "markdown",
   "metadata": {},
   "source": [
    "2. Now, make sure that the string is made up of both alphabets and numbers:\n",
    "\n",
    "TRY using isalnum() function and then entering only alhpabets in the string and see what happens."
   ]
  },
  {
   "cell_type": "code",
   "execution_count": 2,
   "metadata": {},
   "outputs": [
    {
     "name": "stdout",
     "output_type": "stream",
     "text": [
      "InValid username\n"
     ]
    }
   ],
   "source": [
    "input_word=input(\"Enter your username: \")\n",
    "\n",
    "alpha_flag =False\n",
    "number_flag =False\n",
    "alnum_flag =True\n",
    "\n",
    "\n",
    "for x in input_word:\n",
    "    if x.isdigit():\n",
    "        number_flag =True\n",
    "    if x.isdigit():\n",
    "        alpha_flag =True\n",
    "    else:\n",
    "        alnum_flag = False\n",
    "\n",
    "\n",
    "if not (number_flag and alpha_flag and input_word.isalnum()):\n",
    "    print(\"InValid username\")\n",
    "else:\n",
    "    print(\"valid username\")\n"
   ]
  },
  {
   "cell_type": "markdown",
   "metadata": {},
   "source": [
    "3. Now, make sure that the string is made up of both alphabets and at least one number:\n"
   ]
  },
  {
   "cell_type": "code",
   "execution_count": 3,
   "metadata": {},
   "outputs": [
    {
     "name": "stdout",
     "output_type": "stream",
     "text": [
      "valid username\n"
     ]
    }
   ],
   "source": [
    "input_word=input(\"Enter your username: \")\n",
    "\n",
    "alpha_flag =False\n",
    "counter = 0\n",
    "number_flag =False\n",
    "alnum_flag =True\n",
    "\n",
    "\n",
    "for x in input_word:\n",
    "    if x.isdigit():\n",
    "       counter += 1\n",
    "    elif x.isalpha():\n",
    "        alpha_flag =True\n",
    "    else:\n",
    "        alnum_flag =False\n",
    "\n",
    "\n",
    "\n",
    "if not (number_flag and alpha_flag) and number_flag >=1 :\n",
    "    print(\"InValid username\")\n",
    "else:\n",
    "    print(\"valid username\")"
   ]
  },
  {
   "cell_type": "markdown",
   "metadata": {},
   "source": [
    "4. Now, make sure that the string is made up of both alphabets, at least one number, and at least one special character:"
   ]
  },
  {
   "cell_type": "code",
   "execution_count": 4,
   "metadata": {},
   "outputs": [
    {
     "name": "stdout",
     "output_type": "stream",
     "text": [
      "InValid username\n"
     ]
    }
   ],
   "source": [
    "input_word=input(\"Enter your username: \")\n",
    "\n",
    "alpha_flag =False\n",
    "number_flag =False\n",
    "#alnum_flag=True\n",
    "special_flag=False\n",
    "\n",
    "\n",
    "for x in input_word:\n",
    "    if x.isdigit():\n",
    "       number_flag =True\n",
    "    if x.isalpha():\n",
    "        alpha_flag =True\n",
    "    else:\n",
    "        alnum_flag =False\n",
    "\n",
    "\n",
    "\n",
    "if not (number_flag and alpha_flag and number_flag ) :\n",
    "    print(\"InValid username\")\n",
    "else:\n",
    "    print(\"valid username\")"
   ]
  },
  {
   "cell_type": "markdown",
   "metadata": {},
   "source": [
    "5. Now, modify the above code so that if the user enters an invalid string, the program should ask the user to enter another string again, and keep asking until a valid string has been entered."
   ]
  },
  {
   "cell_type": "code",
   "execution_count": 5,
   "metadata": {},
   "outputs": [
    {
     "name": "stdout",
     "output_type": "stream",
     "text": [
      "InValid username\n",
      "InValid username\n",
      "InValid username\n",
      "InValid username\n",
      "InValid username\n",
      "InValid username\n",
      "InValid username\n",
      "InValid username\n",
      "InValid username\n",
      "InValid username\n",
      "InValid username\n"
     ]
    }
   ],
   "source": [
    "while True:\n",
    "    input_word=input(\"Enter your username: \")\n",
    "\n",
    "    alpha_flag =False\n",
    "    number_flag =False\n",
    "    #alnum_flag=True\n",
    "    special_flag=False\n",
    "\n",
    "\n",
    "    for x in input_word:\n",
    "       if x.isdigit():\n",
    "           number_flag =True\n",
    "       elif x.isalpha():\n",
    "           alpha_flag =True\n",
    "       else:\n",
    "           special_flag =False\n",
    "\n",
    "\n",
    "\n",
    "    if not (number_flag and alpha_flag and special_flag ) :\n",
    "       print(\"InValid username\")\n",
    "       continue\n",
    "    else:\n",
    "       print(\"valid username\")\n",
    "       break"
   ]
  }
 ],
 "metadata": {
  "kernelspec": {
   "display_name": "Python 3",
   "language": "python",
   "name": "python3"
  },
  "language_info": {
   "codemirror_mode": {
    "name": "ipython",
    "version": 3
   },
   "file_extension": ".py",
   "mimetype": "text/x-python",
   "name": "python",
   "nbconvert_exporter": "python",
   "pygments_lexer": "ipython3",
   "version": "3.11.9"
  }
 },
 "nbformat": 4,
 "nbformat_minor": 2
}
